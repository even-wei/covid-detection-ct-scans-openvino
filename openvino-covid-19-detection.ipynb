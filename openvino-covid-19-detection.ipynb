{
 "cells": [
  {
   "cell_type": "markdown",
   "id": "726caa9c",
   "metadata": {},
   "source": [
    "# COVID-19 Detection on CT Scans\n",
    "\n",
    "In this notebook, we will optimize a pre-trained models for COVID-19 detection and inferece using OpenVINO.\n",
    "\n",
    "The dataset and models are from https://github.com/kaushikjadhav01/COVID-19-Detection-Flask-App-based-on-Chest-X-rays-and-CT-Scans/"
   ]
  },
  {
   "cell_type": "markdown",
   "id": "18a679b5",
   "metadata": {},
   "source": [
    "## 1. Import Libraries"
   ]
  },
  {
   "cell_type": "code",
   "execution_count": 1,
   "id": "26686e06",
   "metadata": {},
   "outputs": [],
   "source": [
    "import os\n",
    "import sys\n",
    "import time\n",
    "import zipfile\n",
    "from glob import glob\n",
    "from pathlib import Path\n",
    "\n",
    "import cv2\n",
    "import matplotlib.pyplot as plt\n",
    "import mo_tf\n",
    "import numpy as np\n",
    "import tensorflow as tf\n",
    "from openvino.inference_engine import IECore\n",
    "from tqdm import tqdm"
   ]
  },
  {
   "cell_type": "markdown",
   "id": "b8dff301",
   "metadata": {},
   "source": [
    "## 2. Download dataset and models\n",
    "Download and unzip file if it does not exist"
   ]
  },
  {
   "cell_type": "code",
   "execution_count": 2,
   "id": "1d330e60",
   "metadata": {},
   "outputs": [
    {
     "name": "stdout",
     "output_type": "stream",
     "text": [
      "Dataset and models are ready.\n"
     ]
    }
   ],
   "source": [
    "if not os.path.exists('data_and_models'):\n",
    "    !(wget --load-cookies /tmp/cookies.txt \"https://docs.google.com/uc?export=download&confirm=$(wget --quiet --save-cookies /tmp/cookies.txt --keep-session-cookies --no-check-certificate 'https://docs.google.com/uc?export=download&id=1dA-rdmDmCGa3xxW5KpfLJdo7M54lPcQq' -O- | sed -rn 's/.*confirm=([0-9A-Za-z_]+).*/\\1\\n/p')&id=1dA-rdmDmCGa3xxW5KpfLJdo7M54lPcQq\" -O data_and_models.zip && rm -rf /tmp/cookies.txt)\n",
    "    with zipfile.ZipFile('data_and_models.zip', 'r') as zf:\n",
    "        zf.extractall()\n",
    "    os.rename('data and models', 'data_and_models')\n",
    "    !(rm data_and_models.zip)\n",
    "print('Dataset and models are ready.')"
   ]
  },
  {
   "cell_type": "markdown",
   "id": "d734830b",
   "metadata": {},
   "source": [
    "## 3. Optimize Model\n",
    "OpenVINO model optimizer does not support Keras H5 models. We need to convert Keras H5 models into TensorFlow SavedModel.\n",
    "\n",
    "Select the model you want to convert, here we use `resnet_chest`.\n",
    "Model names:\n",
    "\n",
    "- resnet_chest\n",
    "- inceptionv3_chest\n",
    "- vgg_chest\n",
    "- xception_chest"
   ]
  },
  {
   "cell_type": "code",
   "execution_count": 3,
   "id": "7fdf0ceb",
   "metadata": {},
   "outputs": [],
   "source": [
    "model_name = 'resnet_chest'\n",
    "# model_name = 'inceptionv3_chest'\n",
    "# model_name = 'vgg_chest'\n",
    "# model_name = 'xception_chest'\n",
    "\n",
    "if not os.path.exists(model_name):\n",
    "    model_h5 = tf.keras.models.load_model(f'data_and_models/models/{model_name}.h5')\n",
    "    tf.saved_model.save(model_h5, model_name)"
   ]
  },
  {
   "cell_type": "markdown",
   "id": "cef1425d",
   "metadata": {},
   "source": [
    "#### Prepare commnad for optimizing the model\n",
    "Construct the command for model optimizer. We save the converted model in the directory named after selected model."
   ]
  },
  {
   "cell_type": "code",
   "execution_count": 4,
   "id": "b0b7f203",
   "metadata": {},
   "outputs": [
    {
     "name": "stdout",
     "output_type": "stream",
     "text": [
      "Model Optimizer command to convert TensorFlow to OpenVINO:\n",
      "\"/opt/conda/bin/python\" \"/opt/conda/lib/python3.7/site-packages/mo_tf.py\" --saved_model_dir \"resnet_chest\" --input_shape \"[1,224,224,3]\" --data_type FP32 --output_dir \"resnet_chest\"\n"
     ]
    }
   ],
   "source": [
    "# Get the path to the Model Optimizer script\n",
    "mo_path = str(Path(mo_tf.__file__))\n",
    "ir_path = Path(os.path.join(model_name, 'saved_model.xml'))\n",
    "\n",
    "mo_command = f'''\"{sys.executable}\"\n",
    "                 \"{mo_path}\" \n",
    "                 --saved_model_dir \"{model_name}\" \n",
    "                 --input_shape \"[1,224,224,3]\"\n",
    "                 --data_type FP32\n",
    "                 --output_dir \"{model_name}\" \n",
    "                 '''\n",
    "mo_command = ' '.join(mo_command.split())\n",
    "print('Model Optimizer command to convert TensorFlow to OpenVINO:')\n",
    "print(mo_command)"
   ]
  },
  {
   "cell_type": "markdown",
   "id": "8ac9553b",
   "metadata": {},
   "source": [
    "#### Run Model Optimizer if the IR model file does not exist"
   ]
  },
  {
   "cell_type": "code",
   "execution_count": 5,
   "id": "61adf422",
   "metadata": {},
   "outputs": [
    {
     "name": "stdout",
     "output_type": "stream",
     "text": [
      "IR model resnet_chest/saved_model.xml already exists.\n"
     ]
    }
   ],
   "source": [
    "if not ir_path.exists():\n",
    "    print(\"Exporting TensorFlow model to IR... This may take a few minutes.\")\n",
    "    ! $mo_command\n",
    "else:\n",
    "    print(f\"IR model {ir_path} already exists.\")"
   ]
  },
  {
   "cell_type": "markdown",
   "id": "f3897146",
   "metadata": {},
   "source": [
    "## 4. Verify Optimized Model"
   ]
  },
  {
   "cell_type": "markdown",
   "id": "05561105",
   "metadata": {},
   "source": [
    "#### Load Original Model for comparison"
   ]
  },
  {
   "cell_type": "code",
   "execution_count": 6,
   "id": "0471f741",
   "metadata": {},
   "outputs": [
    {
     "data": {
      "text/plain": [
       "(array([[0.9978103 , 0.00218971]], dtype=float32), 1.4140608310699463)"
      ]
     },
     "execution_count": 6,
     "metadata": {},
     "output_type": "execute_result"
    }
   ],
   "source": [
    "model_h5 = tf.keras.models.load_model(f'data_and_models/models/{model_name}.h5')\n",
    "\n",
    "def infer_h5(image_path):\n",
    "    image = cv2.cvtColor(cv2.imread(image_path), cv2.COLOR_BGR2RGB)\n",
    "    resized_image = cv2.resize(image, (224, 224)) / 255\n",
    "    X = np.expand_dims(resized_image, axis=0)\n",
    "    start_time = time.time()\n",
    "    result = model_h5.predict(X)\n",
    "    t = time.time() - start_time\n",
    "    return result, t\n",
    "\n",
    "# warm up\n",
    "infer_h5('data_and_models/data/chest/Chest_COVID/ryct.2020003.fig2-a.png')"
   ]
  },
  {
   "cell_type": "markdown",
   "id": "d6be8d4f",
   "metadata": {},
   "source": [
    "#### Load Optimized Model"
   ]
  },
  {
   "cell_type": "code",
   "execution_count": 7,
   "id": "7d4fea66",
   "metadata": {},
   "outputs": [],
   "source": [
    "ie = IECore()\n",
    "net = ie.read_network(f'{model_name}/saved_model.xml', f'{model_name}/saved_model.bin')\n",
    "exec_net = ie.load_network(net, \"CPU\")\n",
    "input_key = list(exec_net.input_info)[0]\n",
    "output_key = list(exec_net.outputs.keys())[0]\n",
    "network_input_shape = exec_net.input_info[input_key].tensor_desc.dims\n",
    "\n",
    "def infer_ir(image_path):\n",
    "    image = cv2.cvtColor(cv2.imread(image_path), cv2.COLOR_BGR2RGB)\n",
    "    resized_image = cv2.resize(image, (224, 224)) / 255\n",
    "    input_image = np.expand_dims(np.transpose(resized_image, (2, 0, 1)), 0)\n",
    "    start_time = time.time()\n",
    "    result = exec_net.infer(inputs={input_key: input_image})[output_key]\n",
    "    t = time.time() - start_time\n",
    "    return result, t"
   ]
  },
  {
   "cell_type": "markdown",
   "id": "b3271585",
   "metadata": {},
   "source": [
    "#### Define Method for Comparing Orginal and Optimized Models"
   ]
  },
  {
   "cell_type": "code",
   "execution_count": 8,
   "id": "40c8ba52",
   "metadata": {},
   "outputs": [],
   "source": [
    "def comp_model(image_path):\n",
    "    result_h5, time_h5 = infer_h5(image_path)\n",
    "    result_ir, time_ir = infer_ir(image_path)\n",
    "    \n",
    "    print('Result:')\n",
    "    print('Keras H5:\\t', result_h5[0])\n",
    "    print('OpenVINO:\\t', result_ir[0])\n",
    "\n",
    "    print('Time:')\n",
    "    print(f'Keras H5:\\t {time_h5:.3f} sec')\n",
    "    print(f'OpenVINO:\\t {time_ir:.3f} sec')\n",
    "    \n",
    "    print(f'Speedup:\\t x{time_h5/time_ir:.3f}')"
   ]
  },
  {
   "cell_type": "markdown",
   "id": "68ec56bb",
   "metadata": {},
   "source": [
    "#### COVID-19 Positive Sample"
   ]
  },
  {
   "cell_type": "code",
   "execution_count": 9,
   "id": "6acafa06",
   "metadata": {},
   "outputs": [
    {
     "name": "stdout",
     "output_type": "stream",
     "text": [
      "Result:\n",
      "Keras H5:\t [0.9978103  0.00218971]\n",
      "OpenVINO:\t [0.99780995 0.00219002]\n",
      "Time:\n",
      "Keras H5:\t 0.418 sec\n",
      "OpenVINO:\t 0.190 sec\n",
      "Speedup:\t x2.201\n"
     ]
    }
   ],
   "source": [
    "image_path = 'data_and_models/data/chest/Chest_COVID/ryct.2020003.fig2-a.png'\n",
    "comp_model(image_path)"
   ]
  },
  {
   "cell_type": "markdown",
   "id": "ea096e3d",
   "metadata": {},
   "source": [
    "#### COVID-19 Negative Sample"
   ]
  },
  {
   "cell_type": "code",
   "execution_count": 10,
   "id": "863e0795",
   "metadata": {},
   "outputs": [
    {
     "name": "stdout",
     "output_type": "stream",
     "text": [
      "Result:\n",
      "Keras H5:\t [0.07289597 0.92710406]\n",
      "OpenVINO:\t [0.07287621 0.92712384]\n",
      "Time:\n",
      "Keras H5:\t 0.393 sec\n",
      "OpenVINO:\t 0.185 sec\n",
      "Speedup:\t x2.123\n"
     ]
    }
   ],
   "source": [
    "image_path = 'data_and_models/data/chest/Chest_NonCOVID/0a4d9634-7ee8-4512-ba83-6ff5e352b2c2.jpg'\n",
    "comp_model(image_path)"
   ]
  },
  {
   "cell_type": "markdown",
   "id": "0aec782a",
   "metadata": {},
   "source": [
    "## 5. Copy to PHFS for Deployment\n",
    "\n",
    "To deploy the optimized models, we need to put it in PHFS first."
   ]
  },
  {
   "cell_type": "code",
   "execution_count": 11,
   "id": "40c93da1",
   "metadata": {},
   "outputs": [],
   "source": [
    "phfs_dir = f'/phfs/openvino/{model_name}'\n",
    "if not os.path.exists(phfs_dir):\n",
    "    os.makedirs(phfs_dir)\n",
    "\n",
    "xml_file = f'{model_name}/saved_model.xml'\n",
    "bin_file = f'{model_name}/saved_model.bin'\n",
    "!cp $xml_file $phfs_dir\n",
    "!cp $bin_file $phfs_dir"
   ]
  },
  {
   "cell_type": "markdown",
   "id": "f64749ab",
   "metadata": {},
   "source": [
    "## Appendix: Classification Report"
   ]
  },
  {
   "cell_type": "code",
   "execution_count": 12,
   "id": "a22c801c",
   "metadata": {},
   "outputs": [
    {
     "name": "stderr",
     "output_type": "stream",
     "text": [
      "  0%|          | 0/435 [00:00<?, ?it/s]"
     ]
    },
    {
     "name": "stdout",
     "output_type": "stream",
     "text": [
      "Infering COVID images:\n"
     ]
    },
    {
     "name": "stderr",
     "output_type": "stream",
     "text": [
      "100%|██████████| 435/435 [01:20<00:00,  5.54it/s]\n",
      "  0%|          | 1/505 [00:00<01:02,  8.10it/s]"
     ]
    },
    {
     "name": "stdout",
     "output_type": "stream",
     "text": [
      "Infering Non-COVID images:\n"
     ]
    },
    {
     "name": "stderr",
     "output_type": "stream",
     "text": [
      "100%|██████████| 505/505 [01:18<00:00,  6.78it/s]\n"
     ]
    }
   ],
   "source": [
    "covid_files = glob('data_and_models/data/chest/Chest_COVID/*')\n",
    "noncovid_files = glob('data_and_models/data/chest/Chest_NonCOVID/*')\n",
    "\n",
    "print('Infering COVID images:')\n",
    "covid_pred = [infer_ir(f)[0] for f in tqdm(covid_files, position=0, leave=True)]\n",
    "print('Infering Non-COVID images:')\n",
    "noncovid_pred = [infer_ir(f)[0] for f in tqdm(noncovid_files, position=0, leave=True)]"
   ]
  },
  {
   "cell_type": "code",
   "execution_count": 13,
   "id": "f6f4b280",
   "metadata": {},
   "outputs": [
    {
     "name": "stdout",
     "output_type": "stream",
     "text": [
      "              precision    recall  f1-score   support\n",
      "\n",
      "           0       0.72      0.91      0.80       435\n",
      "           1       0.90      0.69      0.78       505\n",
      "\n",
      "    accuracy                           0.79       940\n",
      "   macro avg       0.81      0.80      0.79       940\n",
      "weighted avg       0.82      0.79      0.79       940\n",
      "\n"
     ]
    }
   ],
   "source": [
    "covid_pred_bin = [np.argmax(x) for x in covid_pred]\n",
    "noncovid_pred_bin = [np.argmax(x) for x in noncovid_pred]\n",
    "\n",
    "y_pred_bin = covid_pred_bin\n",
    "y_pred_bin.extend(noncovid_pred_bin)\n",
    "y_test_bin = [0] * len(covid_files)\n",
    "y_test_bin.extend([1] * len(noncovid_files))\n",
    "\n",
    "from sklearn.metrics import classification_report\n",
    "print(classification_report(y_test_bin, y_pred_bin))"
   ]
  }
 ],
 "metadata": {
  "kernelspec": {
   "display_name": "Python 3",
   "language": "python",
   "name": "python3"
  },
  "language_info": {
   "codemirror_mode": {
    "name": "ipython",
    "version": 3
   },
   "file_extension": ".py",
   "mimetype": "text/x-python",
   "name": "python",
   "nbconvert_exporter": "python",
   "pygments_lexer": "ipython3",
   "version": "3.7.10"
  }
 },
 "nbformat": 4,
 "nbformat_minor": 5
}
